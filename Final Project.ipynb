{
 "cells": [
  {
   "cell_type": "code",
   "execution_count": 23,
   "metadata": {},
   "outputs": [
    {
     "name": "stdout",
     "output_type": "stream",
     "text": [
      "cpu does sums in 0.159 seconds\n",
      "programmable logic does sums in 0.00148 seconds\n",
      "Number of e > 0:  13585\n",
      "Number of e > 4:  10959\n",
      "Number of e > 16:  5276\n",
      "Number of e > 64:  97\n",
      "Number of e > 256:  0\n"
     ]
    }
   ],
   "source": [
    "# this code uses a PYNQ overlay to sum every pair of numbers in an array of uint16.\n",
    "#The array can be arbitrarily long.\n",
    "#Sadly, this example does not quite show the PL (programmable logic) being faster than the CPU;\n",
    "#Hopefully, convolving with large filters should see a speedup in the programmable logic over running on the CPU.\n",
    "#Although also note: PL is currently limited by AXI bus speed (currently 50MHz)\n",
    "\n",
    "#Tean: Arthur Wang / Ian Wu / Jiachen Zhang\n",
    "\n",
    "import numpy as np\n",
    "import pynq\n",
    "import time\n",
    "import matplotlib.pyplot as plt"
   ]
  },
  {
   "cell_type": "code",
   "execution_count": null,
   "metadata": {},
   "outputs": [],
   "source": [
    "#load overlay, as we did for GPIO.\n",
    "overlay = pynq.Overlay(\"dma_tutorial.bit\")\n",
    "# print(overlay.ip_dict)\n",
    "dma_toPL = overlay.axi_dma_from_ps_to_pl\n",
    "dma_fromPL = overlay.axi_dma_from_pl_to_ps\n",
    "\n",
    "n = 64\n",
    "delay = 4224\n",
    "w1_data = np.random.randint(low=-65536, high=65535, size=(n,n), dtype=np.int32)\n",
    "w2_data = np.random.randint(low=-65536, high=65535, size=(n,n), dtype=np.int32)\n",
    "w3_data = np.random.randint(low=-65536, high=65535, size=(n,n), dtype=np.int32)\n",
    "x_data = np.random.randint(low=-65536, high=65535, size=(n,n), dtype=np.int32)\n",
    "dy_data = np.random.randint(low=-65536, high=65535, size=(n,n), dtype=np.int32)\n",
    "\n",
    "dma_data = np.concatenate((np.array([n*n*9+delay*8+2*17+2, 0x06410000 | (n*n*4), 0x064201ff]),\n",
    "                           np.array([0x06400000 | n*n, 0x02]), w1_data.flatten(),\n",
    "                           np.array([0x06400000 | n*n, 0x42]), w2_data.flatten(),\n",
    "                           np.array([0x06400000 | n*n, 0x12]), w3_data.flatten(),\n",
    "                           np.array([0x06400000 | n*n, 0x52]), x_data.flatten(),\n",
    "                           np.array([0x06400000 | delay, 0x00962501]), np.zeros(delay, dtype=np.int32),\n",
    "                           np.array([0x06400000 | delay, 0x00c66241]), np.zeros(delay, dtype=np.int32),\n",
    "                           np.array([0x06400000 | delay, 0x0086d611]), np.zeros(delay, dtype=np.int32),\n",
    "                           np.array([0x06400000 | n*n, 0x182]), dy_data.flatten(),\n",
    "                           np.array([0x06400000 | delay, 0x010cc811]), np.zeros(delay, dtype=np.int32),\n",
    "                           np.array([0x06400000 | delay, 0x02001681]), np.zeros(delay, dtype=np.int32),\n",
    "                           np.array([0x06400000 | delay, 0x010c9c41]), np.zeros(delay, dtype=np.int32),\n",
    "                           np.array([0x06400000 | delay, 0x020042c1]), np.zeros(delay, dtype=np.int32),\n",
    "                           np.array([0x06400000 | delay, 0x02000591]), np.zeros(delay, dtype=np.int32),\n",
    "                           np.array([0x06400000 | n*n, 0xd3]), np.zeros(n*n, dtype=np.int32),\n",
    "                           np.array([0x06400000 | n*n, 0x03]), np.zeros(n*n, dtype=np.int32),\n",
    "                           np.array([0x06400000 | n*n, 0x43]), np.zeros(n*n, dtype=np.int32),\n",
    "                           np.array([0x06400000 | n*n, 0x13]), np.zeros(n*n, dtype=np.int32),))\n",
    "\n",
    "#see how long it takes CPU processing to do operation\n",
    "start_time = time.time()\n",
    "\n",
    "x_arr = x_data/65536\n",
    "w1_arr = w1_data/65536\n",
    "w2_arr = w2_data/65536\n",
    "w3_arr = w3_data/65536\n",
    "dy_arr = dy_data/65536\n",
    "\n",
    "a1_arr = np.maximum(np.matmul(w1_arr, x_arr), 0)\n",
    "a2_arr = np.maximum(np.matmul(w2_arr, a1_arr), 0)\n",
    "y_arr = np.maximum(np.matmul(w3_arr, a2_arr), 0)\n",
    "\n",
    "b1_arr = np.zeros((n,n))\n",
    "b2_arr = np.zeros((n,n))\n",
    "b3_arr = np.zeros((n,n))\n",
    "\n",
    "for i in range(n):\n",
    "    for j in range(n):\n",
    "        b1_arr[i,j] = a1_arr[i,j] > 0\n",
    "        b2_arr[i,j] = a2_arr[i,j] > 0\n",
    "        b3_arr[i,j] = y_arr[i,j] > 0\n",
    "\n",
    "p3 = dy_arr * b3_arr\n",
    "p2 = np.matmul(np.transpose(w3_arr),p3) * b2_arr\n",
    "w3_arr_n = w3_arr + np.matmul(p3, np.transpose(a2_arr))\n",
    "p1 = np.matmul(np.transpose(w2_arr),p2) * b1_arr \n",
    "w2_arr_n = w2_arr + np.matmul(p2, np.transpose(a1_arr))\n",
    "w1_arr_n = w1_arr + np.matmul(p1, np.transpose(x_arr))\n",
    "\n",
    "expected_output = np.int32(np.concatenate((y_arr,w1_arr_n,w2_arr_n,w3_arr_n,))*65536).flatten()\n",
    "\n",
    "cputime = time.time() - start_time\n",
    "print(\"cpu does sums in %.3f seconds\"%cputime)\n",
    "    \n",
    "#set up PYNQ data arrays (can be used as numpy arrays, but include physical memory addresses for DMA access)\n",
    "data1 = pynq.allocate(shape=(len(dma_data),), dtype=np.uint32)\n",
    "data2 = pynq.allocate(shape=(len(expected_output),), dtype=np.uint32)\n",
    "data3 = pynq.allocate(shape=(len(expected_output),), dtype=np.uint32)\n",
    "np.copyto(data1, dma_data, 'unsafe')\n",
    "np.copyto(data3, expected_output, 'unsafe')\n",
    "\n",
    "#execute and time operation in programmable logic\n",
    "# start_time = time.time()\n",
    "dma_toPL.sendchannel.transfer(data1)\n",
    "dma_fromPL.recvchannel.transfer(data2)\n",
    "start_time = time.time()\n",
    "dma_toPL.sendchannel.wait()\n",
    "dma_fromPL.recvchannel.wait()\n",
    "pltime = time.time()-start_time\n",
    "print(\"programmable logic does sums in %.5f seconds\"%pltime)\n",
    "\n",
    "print(\"Number of e > 0: \", np.sum(np.absolute(np.int32(data3)-np.int32(data2))>0))\n",
    "print(\"Number of e > 4: \", np.sum(np.absolute(np.int32(data3)-np.int32(data2))>4))\n",
    "print(\"Number of e > 16: \", np.sum(np.absolute(np.int32(data3)-np.int32(data2))>16))\n",
    "print(\"Number of e > 64: \", np.sum(np.absolute(np.int32(data3)-np.int32(data2))>64))\n",
    "print(\"Number of e > 256: \", np.sum(np.absolute(np.int32(data3)-np.int32(data2))>256))\n",
    "\n",
    "np.set_printoptions(formatter={'int':hex})\n"
   ]
  },
  {
   "cell_type": "code",
   "execution_count": 41,
   "metadata": {},
   "outputs": [
    {
     "name": "stdout",
     "output_type": "stream",
     "text": [
      "129\n",
      "-108\n"
     ]
    },
    {
     "data": {
      "text/plain": [
       "(0, 500)"
      ]
     },
     "execution_count": 41,
     "metadata": {},
     "output_type": "execute_result"
    },
    {
     "data": {
      "image/png": "[encoded data removed]",
      "text/plain": [
       "<matplotlib.figure.Figure at 0xae8be870>"
      ]
     },
     "metadata": {},
     "output_type": "display_data"
    }
   ],
   "source": [
    "print(np.amax(np.int32(data3) - np.int32(data2)))\n",
    "print(np.amin(np.int32(data3) - np.int32(data2)))\n",
    "plt.hist(np.int32(data3)-np.int32(data2), 238)\n",
    "plt.title(\"Result of whole operation\")\n",
    "plt.xlabel(\"error (in 2^-16)\")\n",
    "plt.ylabel(\"amount\")\n",
    "plt.ylim(0,500)"
   ]
  },
  {
   "cell_type": "code",
   "execution_count": 42,
   "metadata": {},
   "outputs": [
    {
     "name": "stdout",
     "output_type": "stream",
     "text": [
      "129\n",
      "-108\n"
     ]
    },
    {
     "data": {
      "text/plain": [
       "Text(0,0.5,'amount')"
      ]
     },
     "execution_count": 42,
     "metadata": {},
     "output_type": "execute_result"
    },
    {
     "data": {
      "image/png": "[encoded data removed]",
      "text/plain": [
       "<matplotlib.figure.Figure at 0xad8cd470>"
      ]
     },
     "metadata": {},
     "output_type": "display_data"
    }
   ],
   "source": [
    "\n",
    "print(np.amax(np.int32(data3) - np.int32(data2)))\n",
    "print(np.amin(np.int32(data3) - np.int32(data2)))\n",
    "plt.hist(np.int32(data3)-np.int32(data2), 238)\n",
    "plt.title(\"Result of whole operation\")\n",
    "plt.xlabel(\"error (in 2^-16)\")\n",
    "plt.ylabel(\"amount\")"
   ]
  },
  {
   "cell_type": "code",
   "execution_count": 55,
   "metadata": {},
   "outputs": [],
   "source": [
    "data = np.int32(data3) - np.int32(data2)\n",
    "ydata = data[0:4096]\n",
    "w1data=data[4096:8192]\n",
    "w2data=data[8192:12288]\n",
    "w3data=data[12288:16384]\n",
    "by = 1+np.amax(ydata)-np.amin(ydata)\n",
    "bw1 = 1+np.amax(w1data)-np.amin(w1data)\n",
    "bw2 = 1+np.amax(w2data)-np.amin(w2data)\n",
    "bw3 = 1+np.amax(w3data)-np.amin(w3data)"
   ]
  },
  {
   "cell_type": "code",
   "execution_count": 73,
   "metadata": {},
   "outputs": [
    {
     "data": {
      "image/png": "[encoded data removed]",
      "text/plain": [
       "<matplotlib.figure.Figure at 0xac503630>"
      ]
     },
     "metadata": {},
     "output_type": "display_data"
    }
   ],
   "source": [
    "plt.hist(ydata, by)\n",
    "plt.title(\"Result of y\")\n",
    "plt.xlabel(\"error (in 2^-16)\")\n",
    "plt.ylabel(\"amount\")\n",
    "plt.ylim(0,150)\n",
    "plt.savefig('y.png')"
   ]
  },
  {
   "cell_type": "code",
   "execution_count": 69,
   "metadata": {},
   "outputs": [
    {
     "data": {
      "image/png": "[encoded data removed]",
      "text/plain": [
       "<matplotlib.figure.Figure at 0xac316a10>"
      ]
     },
     "metadata": {},
     "output_type": "display_data"
    }
   ],
   "source": [
    "plt.hist(w1data, bw1)\n",
    "plt.title(\"Result of w1\")\n",
    "plt.xlabel(\"error (in 2^-16)\")\n",
    "plt.ylabel(\"amount\")\n",
    "# plt.ylim(0,110)\n",
    "plt.savefig('w1.png')"
   ]
  },
  {
   "cell_type": "code",
   "execution_count": 70,
   "metadata": {},
   "outputs": [
    {
     "data": {
      "image/png": "[encoded data removed]",
      "text/plain": [
       "<matplotlib.figure.Figure at 0xac354eb0>"
      ]
     },
     "metadata": {},
     "output_type": "display_data"
    }
   ],
   "source": [
    "plt.hist(w2data, bw2)\n",
    "plt.title(\"Result of w2\")\n",
    "plt.xlabel(\"error (in 2^-16)\")\n",
    "plt.ylabel(\"amount\")\n",
    "# plt.ylim(0,150)\n",
    "plt.savefig('w2.png')"
   ]
  },
  {
   "cell_type": "code",
   "execution_count": 71,
   "metadata": {},
   "outputs": [
    {
     "data": {
      "image/png": "[encoded data removed]",
      "text/plain": [
       "<matplotlib.figure.Figure at 0xad70d170>"
      ]
     },
     "metadata": {},
     "output_type": "display_data"
    }
   ],
   "source": [
    "plt.hist(w3data, bw3)\n",
    "plt.title(\"Result of w3\")\n",
    "plt.xlabel(\"error (in 2^-16)\")\n",
    "plt.ylabel(\"amount\")\n",
    "# plt.ylim(0,150)\n",
    "plt.savefig('w3.png')"
   ]
  },
  {
   "cell_type": "code",
   "execution_count": null,
   "metadata": {},
   "outputs": [],
   "source": []
  }
 ],
 "metadata": {
  "kernelspec": {
   "display_name": "Python 3",
   "language": "python",
   "name": "python3"
  },
  "language_info": {
   "codemirror_mode": {
    "name": "ipython",
    "version": 3
   },
   "file_extension": ".py",
   "mimetype": "text/x-python",
   "name": "python",
   "nbconvert_exporter": "python",
   "pygments_lexer": "ipython3",
   "version": "3.6.5"
  }
 },
 "nbformat": 4,
 "nbformat_minor": 2
}
